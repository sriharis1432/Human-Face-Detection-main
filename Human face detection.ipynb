{
 "cells": [
  {
   "cell_type": "code",
   "execution_count": 1,
   "id": "937aa951",
   "metadata": {},
   "outputs": [],
   "source": [
    "import cv2 ,numpy,os"
   ]
  },
  {
   "cell_type": "markdown",
   "id": "2286fdaa",
   "metadata": {},
   "source": [
    "## Defining folder where the image should be saved"
   ]
  },
  {
   "cell_type": "code",
   "execution_count": 3,
   "id": "90bbe330",
   "metadata": {},
   "outputs": [],
   "source": [
    "count=0\n",
    "datasets = 'datasets' \n",
    "sub_data = 'captured'   \n",
    "    \n",
    "path = os.path.join(datasets, sub_data)\n",
    "if not os.path.isdir(path): os.mkdir(path)\n",
    "\n"
   ]
  },
  {
   "cell_type": "markdown",
   "id": "d14a75d7",
   "metadata": {},
   "source": [
    "## Defining the model"
   ]
  },
  {
   "cell_type": "code",
   "execution_count": null,
   "id": "6e9b5e88",
   "metadata": {},
   "outputs": [],
   "source": [
    "haar_file = 'haarcascade_frontalface_default.xml'\n",
    "face_cascade = cv2.CascadeClassifier(haar_file)\n"
   ]
  },
  {
   "cell_type": "markdown",
   "id": "01c7973b",
   "metadata": {},
   "source": [
    "## Opening the webcam , detecting the face and saving to the folder"
   ]
  },
  {
   "cell_type": "code",
   "execution_count": null,
   "id": "64752cb4",
   "metadata": {},
   "outputs": [],
   "source": [
    "key = cv2. waitKey(1)\n",
    "webcam = cv2.VideoCapture(0)\n",
    "\n",
    "\n",
    "while True:\n",
    "        i=-1\n",
    "        check, frame = webcam.read()\n",
    "        cv2.imshow(\"Capturing\", frame)\n",
    "        key = cv2.waitKey(1)\n",
    "        \n",
    "        imgf = cv2.flip(frame, 1)\n",
    "        grayImg = cv2.flip(cv2.cvtColor(frame, cv2.COLOR_BGR2GRAY),1)\n",
    "        face = face_cascade.detectMultiScale(grayImg, 1.3, 4)\n",
    "        for (x,y,w,h) in face:\n",
    "            cv2.rectangle(imgf, (x,y), (x + w, y + h), (0,255, 0), 2)\n",
    "            i=0\n",
    "            \n",
    "        if i==0:\n",
    "            cv2.imwrite('% s/% s.png' % (path,count), frame)\n",
    "            print(\"Image saved!\")\n",
    "            count=count+1\n",
    "            \n",
    "           \n",
    "        if key == ord('q'):\n",
    "            print(\"Turning off camera.\")\n",
    "            print(\"Camera off.\")\n",
    "            print(\"Program ended.\")\n",
    "            break\n",
    "            \n",
    "            \n",
    "cv2.destroyAllWindows()\n",
    "webcam.release()     "
   ]
  },
  {
   "cell_type": "code",
   "execution_count": null,
   "id": "8dfbbd8a",
   "metadata": {},
   "outputs": [],
   "source": []
  },
  {
   "cell_type": "code",
   "execution_count": null,
   "id": "f43e41a2",
   "metadata": {},
   "outputs": [],
   "source": []
  },
  {
   "cell_type": "code",
   "execution_count": null,
   "id": "50a2a1d9",
   "metadata": {},
   "outputs": [],
   "source": []
  }
 ],
 "metadata": {
  "kernelspec": {
   "display_name": "Python 3 (ipykernel)",
   "language": "python",
   "name": "python3"
  },
  "language_info": {
   "codemirror_mode": {
    "name": "ipython",
    "version": 3
   },
   "file_extension": ".py",
   "mimetype": "text/x-python",
   "name": "python",
   "nbconvert_exporter": "python",
   "pygments_lexer": "ipython3",
   "version": "3.9.7"
  }
 },
 "nbformat": 4,
 "nbformat_minor": 5
}
